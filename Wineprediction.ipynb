{
  "nbformat": 4,
  "nbformat_minor": 0,
  "metadata": {
    "colab": {
      "provenance": []
    },
    "kernelspec": {
      "name": "python3",
      "display_name": "Python 3"
    },
    "language_info": {
      "name": "python"
    }
  },
  "cells": [
    {
      "cell_type": "markdown",
      "source": [
        "#Loading Libraries and Data"
      ],
      "metadata": {
        "id": "5clsop91Soe1"
      }
    },
    {
      "cell_type": "code",
      "execution_count": null,
      "metadata": {
        "id": "zFWzprMFN0-X"
      },
      "outputs": [],
      "source": [
        "#Implementing the Libraries\n",
        "import numpy as np\n",
        "import matplotlib.pyplot as plt\n",
        "import pandas as pd\n",
        "\n",
        "import sklearn\n",
        "from sklearn.preprocessing import MaxAbsScaler\n",
        "from sklearn.model_selection import train_test_split\n",
        "from sklearn.metrics import accuracy_score"
      ]
    },
    {
      "cell_type": "code",
      "source": [
        "data = pd.read_csv('Wine_2020.csv') #Reading the Excel File"
      ],
      "metadata": {
        "id": "vMo6TyUtOJ-s"
      },
      "execution_count": null,
      "outputs": []
    },
    {
      "cell_type": "code",
      "source": [
        "data.head()\n"
      ],
      "metadata": {
        "colab": {
          "base_uri": "https://localhost:8080/",
          "height": 241
        },
        "id": "YvzNdY_gONQJ",
        "outputId": "e15d70a3-4413-4fb0-d10a-617774f3e01c"
      },
      "execution_count": null,
      "outputs": [
        {
          "output_type": "execute_result",
          "data": {
            "text/plain": [
              "   fixed acidity  volatile acidity  critric acid  residual sugar  chlorides  \\\n",
              "0       8.567376              0.15      0.820326             1.6   0.174755   \n",
              "1       3.006749              0.28      1.602516             1.8   0.341262   \n",
              "2       7.354262              0.24      1.138284             7.7   0.303813   \n",
              "3       6.942369              0.22      1.090815            10.4   0.084264   \n",
              "4       6.235026              0.28      0.101780             8.7   0.096892   \n",
              "\n",
              "   free sulfur dioxide  total sulfur dioxide  density        pH  sulphates  \\\n",
              "0           243.304154            100.354988   0.9948  3.456648   0.604694   \n",
              "1           218.125676            310.740380   0.9929  2.779328   1.049840   \n",
              "2           153.170821            166.964841   0.9938  2.945272   0.873361   \n",
              "3           116.195476            360.264333   0.9987  3.657075   0.565282   \n",
              "4           123.352272            209.157680   0.9961  2.971558   0.896674   \n",
              "\n",
              "     alcohol  quality  \n",
              "0  13.297994        7  \n",
              "1   9.134693        5  \n",
              "2  10.592140        6  \n",
              "3  11.219277        6  \n",
              "4  10.438754        5  "
            ],
            "text/html": [
              "\n",
              "  <div id=\"df-44f4eb90-66bd-495c-ba92-23ceb85bee2b\" class=\"colab-df-container\">\n",
              "    <div>\n",
              "<style scoped>\n",
              "    .dataframe tbody tr th:only-of-type {\n",
              "        vertical-align: middle;\n",
              "    }\n",
              "\n",
              "    .dataframe tbody tr th {\n",
              "        vertical-align: top;\n",
              "    }\n",
              "\n",
              "    .dataframe thead th {\n",
              "        text-align: right;\n",
              "    }\n",
              "</style>\n",
              "<table border=\"1\" class=\"dataframe\">\n",
              "  <thead>\n",
              "    <tr style=\"text-align: right;\">\n",
              "      <th></th>\n",
              "      <th>fixed acidity</th>\n",
              "      <th>volatile acidity</th>\n",
              "      <th>critric acid</th>\n",
              "      <th>residual sugar</th>\n",
              "      <th>chlorides</th>\n",
              "      <th>free sulfur dioxide</th>\n",
              "      <th>total sulfur dioxide</th>\n",
              "      <th>density</th>\n",
              "      <th>pH</th>\n",
              "      <th>sulphates</th>\n",
              "      <th>alcohol</th>\n",
              "      <th>quality</th>\n",
              "    </tr>\n",
              "  </thead>\n",
              "  <tbody>\n",
              "    <tr>\n",
              "      <th>0</th>\n",
              "      <td>8.567376</td>\n",
              "      <td>0.15</td>\n",
              "      <td>0.820326</td>\n",
              "      <td>1.6</td>\n",
              "      <td>0.174755</td>\n",
              "      <td>243.304154</td>\n",
              "      <td>100.354988</td>\n",
              "      <td>0.9948</td>\n",
              "      <td>3.456648</td>\n",
              "      <td>0.604694</td>\n",
              "      <td>13.297994</td>\n",
              "      <td>7</td>\n",
              "    </tr>\n",
              "    <tr>\n",
              "      <th>1</th>\n",
              "      <td>3.006749</td>\n",
              "      <td>0.28</td>\n",
              "      <td>1.602516</td>\n",
              "      <td>1.8</td>\n",
              "      <td>0.341262</td>\n",
              "      <td>218.125676</td>\n",
              "      <td>310.740380</td>\n",
              "      <td>0.9929</td>\n",
              "      <td>2.779328</td>\n",
              "      <td>1.049840</td>\n",
              "      <td>9.134693</td>\n",
              "      <td>5</td>\n",
              "    </tr>\n",
              "    <tr>\n",
              "      <th>2</th>\n",
              "      <td>7.354262</td>\n",
              "      <td>0.24</td>\n",
              "      <td>1.138284</td>\n",
              "      <td>7.7</td>\n",
              "      <td>0.303813</td>\n",
              "      <td>153.170821</td>\n",
              "      <td>166.964841</td>\n",
              "      <td>0.9938</td>\n",
              "      <td>2.945272</td>\n",
              "      <td>0.873361</td>\n",
              "      <td>10.592140</td>\n",
              "      <td>6</td>\n",
              "    </tr>\n",
              "    <tr>\n",
              "      <th>3</th>\n",
              "      <td>6.942369</td>\n",
              "      <td>0.22</td>\n",
              "      <td>1.090815</td>\n",
              "      <td>10.4</td>\n",
              "      <td>0.084264</td>\n",
              "      <td>116.195476</td>\n",
              "      <td>360.264333</td>\n",
              "      <td>0.9987</td>\n",
              "      <td>3.657075</td>\n",
              "      <td>0.565282</td>\n",
              "      <td>11.219277</td>\n",
              "      <td>6</td>\n",
              "    </tr>\n",
              "    <tr>\n",
              "      <th>4</th>\n",
              "      <td>6.235026</td>\n",
              "      <td>0.28</td>\n",
              "      <td>0.101780</td>\n",
              "      <td>8.7</td>\n",
              "      <td>0.096892</td>\n",
              "      <td>123.352272</td>\n",
              "      <td>209.157680</td>\n",
              "      <td>0.9961</td>\n",
              "      <td>2.971558</td>\n",
              "      <td>0.896674</td>\n",
              "      <td>10.438754</td>\n",
              "      <td>5</td>\n",
              "    </tr>\n",
              "  </tbody>\n",
              "</table>\n",
              "</div>\n",
              "    <div class=\"colab-df-buttons\">\n",
              "\n",
              "  <div class=\"colab-df-container\">\n",
              "    <button class=\"colab-df-convert\" onclick=\"convertToInteractive('df-44f4eb90-66bd-495c-ba92-23ceb85bee2b')\"\n",
              "            title=\"Convert this dataframe to an interactive table.\"\n",
              "            style=\"display:none;\">\n",
              "\n",
              "  <svg xmlns=\"http://www.w3.org/2000/svg\" height=\"24px\" viewBox=\"0 -960 960 960\">\n",
              "    <path d=\"M120-120v-720h720v720H120Zm60-500h600v-160H180v160Zm220 220h160v-160H400v160Zm0 220h160v-160H400v160ZM180-400h160v-160H180v160Zm440 0h160v-160H620v160ZM180-180h160v-160H180v160Zm440 0h160v-160H620v160Z\"/>\n",
              "  </svg>\n",
              "    </button>\n",
              "\n",
              "  <style>\n",
              "    .colab-df-container {\n",
              "      display:flex;\n",
              "      gap: 12px;\n",
              "    }\n",
              "\n",
              "    .colab-df-convert {\n",
              "      background-color: #E8F0FE;\n",
              "      border: none;\n",
              "      border-radius: 50%;\n",
              "      cursor: pointer;\n",
              "      display: none;\n",
              "      fill: #1967D2;\n",
              "      height: 32px;\n",
              "      padding: 0 0 0 0;\n",
              "      width: 32px;\n",
              "    }\n",
              "\n",
              "    .colab-df-convert:hover {\n",
              "      background-color: #E2EBFA;\n",
              "      box-shadow: 0px 1px 2px rgba(60, 64, 67, 0.3), 0px 1px 3px 1px rgba(60, 64, 67, 0.15);\n",
              "      fill: #174EA6;\n",
              "    }\n",
              "\n",
              "    .colab-df-buttons div {\n",
              "      margin-bottom: 4px;\n",
              "    }\n",
              "\n",
              "    [theme=dark] .colab-df-convert {\n",
              "      background-color: #3B4455;\n",
              "      fill: #D2E3FC;\n",
              "    }\n",
              "\n",
              "    [theme=dark] .colab-df-convert:hover {\n",
              "      background-color: #434B5C;\n",
              "      box-shadow: 0px 1px 3px 1px rgba(0, 0, 0, 0.15);\n",
              "      filter: drop-shadow(0px 1px 2px rgba(0, 0, 0, 0.3));\n",
              "      fill: #FFFFFF;\n",
              "    }\n",
              "  </style>\n",
              "\n",
              "    <script>\n",
              "      const buttonEl =\n",
              "        document.querySelector('#df-44f4eb90-66bd-495c-ba92-23ceb85bee2b button.colab-df-convert');\n",
              "      buttonEl.style.display =\n",
              "        google.colab.kernel.accessAllowed ? 'block' : 'none';\n",
              "\n",
              "      async function convertToInteractive(key) {\n",
              "        const element = document.querySelector('#df-44f4eb90-66bd-495c-ba92-23ceb85bee2b');\n",
              "        const dataTable =\n",
              "          await google.colab.kernel.invokeFunction('convertToInteractive',\n",
              "                                                    [key], {});\n",
              "        if (!dataTable) return;\n",
              "\n",
              "        const docLinkHtml = 'Like what you see? Visit the ' +\n",
              "          '<a target=\"_blank\" href=https://colab.research.google.com/notebooks/data_table.ipynb>data table notebook</a>'\n",
              "          + ' to learn more about interactive tables.';\n",
              "        element.innerHTML = '';\n",
              "        dataTable['output_type'] = 'display_data';\n",
              "        await google.colab.output.renderOutput(dataTable, element);\n",
              "        const docLink = document.createElement('div');\n",
              "        docLink.innerHTML = docLinkHtml;\n",
              "        element.appendChild(docLink);\n",
              "      }\n",
              "    </script>\n",
              "  </div>\n",
              "\n",
              "\n",
              "<div id=\"df-56a51676-440d-44d1-aee7-f5daa42628d4\">\n",
              "  <button class=\"colab-df-quickchart\" onclick=\"quickchart('df-56a51676-440d-44d1-aee7-f5daa42628d4')\"\n",
              "            title=\"Suggest charts\"\n",
              "            style=\"display:none;\">\n",
              "\n",
              "<svg xmlns=\"http://www.w3.org/2000/svg\" height=\"24px\"viewBox=\"0 0 24 24\"\n",
              "     width=\"24px\">\n",
              "    <g>\n",
              "        <path d=\"M19 3H5c-1.1 0-2 .9-2 2v14c0 1.1.9 2 2 2h14c1.1 0 2-.9 2-2V5c0-1.1-.9-2-2-2zM9 17H7v-7h2v7zm4 0h-2V7h2v10zm4 0h-2v-4h2v4z\"/>\n",
              "    </g>\n",
              "</svg>\n",
              "  </button>\n",
              "\n",
              "<style>\n",
              "  .colab-df-quickchart {\n",
              "      --bg-color: #E8F0FE;\n",
              "      --fill-color: #1967D2;\n",
              "      --hover-bg-color: #E2EBFA;\n",
              "      --hover-fill-color: #174EA6;\n",
              "      --disabled-fill-color: #AAA;\n",
              "      --disabled-bg-color: #DDD;\n",
              "  }\n",
              "\n",
              "  [theme=dark] .colab-df-quickchart {\n",
              "      --bg-color: #3B4455;\n",
              "      --fill-color: #D2E3FC;\n",
              "      --hover-bg-color: #434B5C;\n",
              "      --hover-fill-color: #FFFFFF;\n",
              "      --disabled-bg-color: #3B4455;\n",
              "      --disabled-fill-color: #666;\n",
              "  }\n",
              "\n",
              "  .colab-df-quickchart {\n",
              "    background-color: var(--bg-color);\n",
              "    border: none;\n",
              "    border-radius: 50%;\n",
              "    cursor: pointer;\n",
              "    display: none;\n",
              "    fill: var(--fill-color);\n",
              "    height: 32px;\n",
              "    padding: 0;\n",
              "    width: 32px;\n",
              "  }\n",
              "\n",
              "  .colab-df-quickchart:hover {\n",
              "    background-color: var(--hover-bg-color);\n",
              "    box-shadow: 0 1px 2px rgba(60, 64, 67, 0.3), 0 1px 3px 1px rgba(60, 64, 67, 0.15);\n",
              "    fill: var(--button-hover-fill-color);\n",
              "  }\n",
              "\n",
              "  .colab-df-quickchart-complete:disabled,\n",
              "  .colab-df-quickchart-complete:disabled:hover {\n",
              "    background-color: var(--disabled-bg-color);\n",
              "    fill: var(--disabled-fill-color);\n",
              "    box-shadow: none;\n",
              "  }\n",
              "\n",
              "  .colab-df-spinner {\n",
              "    border: 2px solid var(--fill-color);\n",
              "    border-color: transparent;\n",
              "    border-bottom-color: var(--fill-color);\n",
              "    animation:\n",
              "      spin 1s steps(1) infinite;\n",
              "  }\n",
              "\n",
              "  @keyframes spin {\n",
              "    0% {\n",
              "      border-color: transparent;\n",
              "      border-bottom-color: var(--fill-color);\n",
              "      border-left-color: var(--fill-color);\n",
              "    }\n",
              "    20% {\n",
              "      border-color: transparent;\n",
              "      border-left-color: var(--fill-color);\n",
              "      border-top-color: var(--fill-color);\n",
              "    }\n",
              "    30% {\n",
              "      border-color: transparent;\n",
              "      border-left-color: var(--fill-color);\n",
              "      border-top-color: var(--fill-color);\n",
              "      border-right-color: var(--fill-color);\n",
              "    }\n",
              "    40% {\n",
              "      border-color: transparent;\n",
              "      border-right-color: var(--fill-color);\n",
              "      border-top-color: var(--fill-color);\n",
              "    }\n",
              "    60% {\n",
              "      border-color: transparent;\n",
              "      border-right-color: var(--fill-color);\n",
              "    }\n",
              "    80% {\n",
              "      border-color: transparent;\n",
              "      border-right-color: var(--fill-color);\n",
              "      border-bottom-color: var(--fill-color);\n",
              "    }\n",
              "    90% {\n",
              "      border-color: transparent;\n",
              "      border-bottom-color: var(--fill-color);\n",
              "    }\n",
              "  }\n",
              "</style>\n",
              "\n",
              "  <script>\n",
              "    async function quickchart(key) {\n",
              "      const quickchartButtonEl =\n",
              "        document.querySelector('#' + key + ' button');\n",
              "      quickchartButtonEl.disabled = true;  // To prevent multiple clicks.\n",
              "      quickchartButtonEl.classList.add('colab-df-spinner');\n",
              "      try {\n",
              "        const charts = await google.colab.kernel.invokeFunction(\n",
              "            'suggestCharts', [key], {});\n",
              "      } catch (error) {\n",
              "        console.error('Error during call to suggestCharts:', error);\n",
              "      }\n",
              "      quickchartButtonEl.classList.remove('colab-df-spinner');\n",
              "      quickchartButtonEl.classList.add('colab-df-quickchart-complete');\n",
              "    }\n",
              "    (() => {\n",
              "      let quickchartButtonEl =\n",
              "        document.querySelector('#df-56a51676-440d-44d1-aee7-f5daa42628d4 button');\n",
              "      quickchartButtonEl.style.display =\n",
              "        google.colab.kernel.accessAllowed ? 'block' : 'none';\n",
              "    })();\n",
              "  </script>\n",
              "</div>\n",
              "\n",
              "    </div>\n",
              "  </div>\n"
            ],
            "application/vnd.google.colaboratory.intrinsic+json": {
              "type": "dataframe",
              "variable_name": "data",
              "summary": "{\n  \"name\": \"data\",\n  \"rows\": 4000,\n  \"fields\": [\n    {\n      \"column\": \"fixed acidity\",\n      \"properties\": {\n        \"dtype\": \"number\",\n        \"std\": 3.451236003634857,\n        \"min\": 3.002656863,\n        \"max\": 14.99967991,\n        \"num_unique_values\": 4000,\n        \"samples\": [\n          3.166763532,\n          6.104527712,\n          14.15934803\n        ],\n        \"semantic_type\": \"\",\n        \"description\": \"\"\n      }\n    },\n    {\n      \"column\": \"volatile acidity\",\n      \"properties\": {\n        \"dtype\": \"number\",\n        \"std\": 0.10018391037349476,\n        \"min\": 0.08,\n        \"max\": 1.005,\n        \"num_unique_values\": 117,\n        \"samples\": [\n          0.43,\n          0.3,\n          0.75\n        ],\n        \"semantic_type\": \"\",\n        \"description\": \"\"\n      }\n    },\n    {\n      \"column\": \"critric acid\",\n      \"properties\": {\n        \"dtype\": \"number\",\n        \"std\": 0.5198247727937683,\n        \"min\": 0.001274377,\n        \"max\": 1.799570362,\n        \"num_unique_values\": 4000,\n        \"samples\": [\n          0.878725683,\n          1.313676333,\n          1.086809708\n        ],\n        \"semantic_type\": \"\",\n        \"description\": \"\"\n      }\n    },\n    {\n      \"column\": \"residual sugar\",\n      \"properties\": {\n        \"dtype\": \"number\",\n        \"std\": 5.091631275765739,\n        \"min\": 0.6,\n        \"max\": 65.8,\n        \"num_unique_values\": 298,\n        \"samples\": [\n          10.55,\n          4.35,\n          15.9\n        ],\n        \"semantic_type\": \"\",\n        \"description\": \"\"\n      }\n    },\n    {\n      \"column\": \"chlorides\",\n      \"properties\": {\n        \"dtype\": \"number\",\n        \"std\": 0.09899969918458819,\n        \"min\": 0.000183908,\n        \"max\": 0.345939748,\n        \"num_unique_values\": 4000,\n        \"samples\": [\n          0.013873797,\n          0.20483483,\n          0.292763798\n        ],\n        \"semantic_type\": \"\",\n        \"description\": \"\"\n      }\n    },\n    {\n      \"column\": \"free sulfur dioxide\",\n      \"properties\": {\n        \"dtype\": \"number\",\n        \"std\": 82.5833519381371,\n        \"min\": 2.049863701,\n        \"max\": 288.9917338,\n        \"num_unique_values\": 4000,\n        \"samples\": [\n          224.3469779,\n          178.7737841,\n          186.6184787\n        ],\n        \"semantic_type\": \"\",\n        \"description\": \"\"\n      }\n    },\n    {\n      \"column\": \"total sulfur dioxide\",\n      \"properties\": {\n        \"dtype\": \"number\",\n        \"std\": 125.91797888393236,\n        \"min\": 9.280988086,\n        \"max\": 449.7976575,\n        \"num_unique_values\": 4000,\n        \"samples\": [\n          161.8599169,\n          303.9557524,\n          167.0050643\n        ],\n        \"semantic_type\": \"\",\n        \"description\": \"\"\n      }\n    },\n    {\n      \"column\": \"density\",\n      \"properties\": {\n        \"dtype\": \"number\",\n        \"std\": 0.002992577761527365,\n        \"min\": 0.98713,\n        \"max\": 1.03898,\n        \"num_unique_values\": 773,\n        \"samples\": [\n          0.99412,\n          0.99444,\n          1.00016\n        ],\n        \"semantic_type\": \"\",\n        \"description\": \"\"\n      }\n    },\n    {\n      \"column\": \"pH\",\n      \"properties\": {\n        \"dtype\": \"number\",\n        \"std\": 0.3308190865479679,\n        \"min\": 2.710566413,\n        \"max\": 3.849759261,\n        \"num_unique_values\": 4000,\n        \"samples\": [\n          3.782414553,\n          2.920216807,\n          2.899049336\n        ],\n        \"semantic_type\": \"\",\n        \"description\": \"\"\n      }\n    },\n    {\n      \"column\": \"sulphates\",\n      \"properties\": {\n        \"dtype\": \"number\",\n        \"std\": 0.24711004451391008,\n        \"min\": 0.220085728,\n        \"max\": 1.079714063,\n        \"num_unique_values\": 4000,\n        \"samples\": [\n          0.228512472,\n          0.527937375,\n          0.948952648\n        ],\n        \"semantic_type\": \"\",\n        \"description\": \"\"\n      }\n    },\n    {\n      \"column\": \"alcohol\",\n      \"properties\": {\n        \"dtype\": \"number\",\n        \"std\": 1.753456867188882,\n        \"min\": 8.003454722,\n        \"max\": 14.19785157,\n        \"num_unique_values\": 4000,\n        \"samples\": [\n          9.703989839,\n          11.42645487,\n          10.94524375\n        ],\n        \"semantic_type\": \"\",\n        \"description\": \"\"\n      }\n    },\n    {\n      \"column\": \"quality\",\n      \"properties\": {\n        \"dtype\": \"number\",\n        \"std\": 0,\n        \"min\": 2,\n        \"max\": 8,\n        \"num_unique_values\": 7,\n        \"samples\": [\n          7,\n          5,\n          3\n        ],\n        \"semantic_type\": \"\",\n        \"description\": \"\"\n      }\n    }\n  ]\n}"
            }
          },
          "metadata": {},
          "execution_count": 3
        }
      ]
    },
    {
      "cell_type": "code",
      "source": [
        "data.shape"
      ],
      "metadata": {
        "colab": {
          "base_uri": "https://localhost:8080/"
        },
        "id": "8rn5QxHeOROa",
        "outputId": "dae1d06c-4d48-492d-87bd-a3e178167da8"
      },
      "execution_count": null,
      "outputs": [
        {
          "output_type": "execute_result",
          "data": {
            "text/plain": [
              "(4000, 12)"
            ]
          },
          "metadata": {},
          "execution_count": 4
        }
      ]
    },
    {
      "cell_type": "code",
      "source": [
        "y = data['quality'] # Target Variable as a seperate Variable\n",
        "x = data.drop('quality',axis=1)"
      ],
      "metadata": {
        "id": "Qn9o2r8gOjeZ"
      },
      "execution_count": null,
      "outputs": []
    },
    {
      "cell_type": "code",
      "source": [
        "x.head()"
      ],
      "metadata": {
        "colab": {
          "base_uri": "https://localhost:8080/",
          "height": 224
        },
        "id": "d2PsCHhsOkzR",
        "outputId": "5130f58b-6811-4c38-d8b3-7648842551ba"
      },
      "execution_count": null,
      "outputs": [
        {
          "output_type": "execute_result",
          "data": {
            "text/plain": [
              "   fixed acidity  volatile acidity  critric acid  residual sugar  chlorides  \\\n",
              "0       8.567376              0.15      0.820326             1.6   0.174755   \n",
              "1       3.006749              0.28      1.602516             1.8   0.341262   \n",
              "2       7.354262              0.24      1.138284             7.7   0.303813   \n",
              "3       6.942369              0.22      1.090815            10.4   0.084264   \n",
              "4       6.235026              0.28      0.101780             8.7   0.096892   \n",
              "\n",
              "   free sulfur dioxide  total sulfur dioxide  density        pH  sulphates  \\\n",
              "0           243.304154            100.354988   0.9948  3.456648   0.604694   \n",
              "1           218.125676            310.740380   0.9929  2.779328   1.049840   \n",
              "2           153.170821            166.964841   0.9938  2.945272   0.873361   \n",
              "3           116.195476            360.264333   0.9987  3.657075   0.565282   \n",
              "4           123.352272            209.157680   0.9961  2.971558   0.896674   \n",
              "\n",
              "     alcohol  \n",
              "0  13.297994  \n",
              "1   9.134693  \n",
              "2  10.592140  \n",
              "3  11.219277  \n",
              "4  10.438754  "
            ],
            "text/html": [
              "\n",
              "  <div id=\"df-ac381cb6-f17c-4ecb-978a-449e093fcc8a\" class=\"colab-df-container\">\n",
              "    <div>\n",
              "<style scoped>\n",
              "    .dataframe tbody tr th:only-of-type {\n",
              "        vertical-align: middle;\n",
              "    }\n",
              "\n",
              "    .dataframe tbody tr th {\n",
              "        vertical-align: top;\n",
              "    }\n",
              "\n",
              "    .dataframe thead th {\n",
              "        text-align: right;\n",
              "    }\n",
              "</style>\n",
              "<table border=\"1\" class=\"dataframe\">\n",
              "  <thead>\n",
              "    <tr style=\"text-align: right;\">\n",
              "      <th></th>\n",
              "      <th>fixed acidity</th>\n",
              "      <th>volatile acidity</th>\n",
              "      <th>critric acid</th>\n",
              "      <th>residual sugar</th>\n",
              "      <th>chlorides</th>\n",
              "      <th>free sulfur dioxide</th>\n",
              "      <th>total sulfur dioxide</th>\n",
              "      <th>density</th>\n",
              "      <th>pH</th>\n",
              "      <th>sulphates</th>\n",
              "      <th>alcohol</th>\n",
              "    </tr>\n",
              "  </thead>\n",
              "  <tbody>\n",
              "    <tr>\n",
              "      <th>0</th>\n",
              "      <td>8.567376</td>\n",
              "      <td>0.15</td>\n",
              "      <td>0.820326</td>\n",
              "      <td>1.6</td>\n",
              "      <td>0.174755</td>\n",
              "      <td>243.304154</td>\n",
              "      <td>100.354988</td>\n",
              "      <td>0.9948</td>\n",
              "      <td>3.456648</td>\n",
              "      <td>0.604694</td>\n",
              "      <td>13.297994</td>\n",
              "    </tr>\n",
              "    <tr>\n",
              "      <th>1</th>\n",
              "      <td>3.006749</td>\n",
              "      <td>0.28</td>\n",
              "      <td>1.602516</td>\n",
              "      <td>1.8</td>\n",
              "      <td>0.341262</td>\n",
              "      <td>218.125676</td>\n",
              "      <td>310.740380</td>\n",
              "      <td>0.9929</td>\n",
              "      <td>2.779328</td>\n",
              "      <td>1.049840</td>\n",
              "      <td>9.134693</td>\n",
              "    </tr>\n",
              "    <tr>\n",
              "      <th>2</th>\n",
              "      <td>7.354262</td>\n",
              "      <td>0.24</td>\n",
              "      <td>1.138284</td>\n",
              "      <td>7.7</td>\n",
              "      <td>0.303813</td>\n",
              "      <td>153.170821</td>\n",
              "      <td>166.964841</td>\n",
              "      <td>0.9938</td>\n",
              "      <td>2.945272</td>\n",
              "      <td>0.873361</td>\n",
              "      <td>10.592140</td>\n",
              "    </tr>\n",
              "    <tr>\n",
              "      <th>3</th>\n",
              "      <td>6.942369</td>\n",
              "      <td>0.22</td>\n",
              "      <td>1.090815</td>\n",
              "      <td>10.4</td>\n",
              "      <td>0.084264</td>\n",
              "      <td>116.195476</td>\n",
              "      <td>360.264333</td>\n",
              "      <td>0.9987</td>\n",
              "      <td>3.657075</td>\n",
              "      <td>0.565282</td>\n",
              "      <td>11.219277</td>\n",
              "    </tr>\n",
              "    <tr>\n",
              "      <th>4</th>\n",
              "      <td>6.235026</td>\n",
              "      <td>0.28</td>\n",
              "      <td>0.101780</td>\n",
              "      <td>8.7</td>\n",
              "      <td>0.096892</td>\n",
              "      <td>123.352272</td>\n",
              "      <td>209.157680</td>\n",
              "      <td>0.9961</td>\n",
              "      <td>2.971558</td>\n",
              "      <td>0.896674</td>\n",
              "      <td>10.438754</td>\n",
              "    </tr>\n",
              "  </tbody>\n",
              "</table>\n",
              "</div>\n",
              "    <div class=\"colab-df-buttons\">\n",
              "\n",
              "  <div class=\"colab-df-container\">\n",
              "    <button class=\"colab-df-convert\" onclick=\"convertToInteractive('df-ac381cb6-f17c-4ecb-978a-449e093fcc8a')\"\n",
              "            title=\"Convert this dataframe to an interactive table.\"\n",
              "            style=\"display:none;\">\n",
              "\n",
              "  <svg xmlns=\"http://www.w3.org/2000/svg\" height=\"24px\" viewBox=\"0 -960 960 960\">\n",
              "    <path d=\"M120-120v-720h720v720H120Zm60-500h600v-160H180v160Zm220 220h160v-160H400v160Zm0 220h160v-160H400v160ZM180-400h160v-160H180v160Zm440 0h160v-160H620v160ZM180-180h160v-160H180v160Zm440 0h160v-160H620v160Z\"/>\n",
              "  </svg>\n",
              "    </button>\n",
              "\n",
              "  <style>\n",
              "    .colab-df-container {\n",
              "      display:flex;\n",
              "      gap: 12px;\n",
              "    }\n",
              "\n",
              "    .colab-df-convert {\n",
              "      background-color: #E8F0FE;\n",
              "      border: none;\n",
              "      border-radius: 50%;\n",
              "      cursor: pointer;\n",
              "      display: none;\n",
              "      fill: #1967D2;\n",
              "      height: 32px;\n",
              "      padding: 0 0 0 0;\n",
              "      width: 32px;\n",
              "    }\n",
              "\n",
              "    .colab-df-convert:hover {\n",
              "      background-color: #E2EBFA;\n",
              "      box-shadow: 0px 1px 2px rgba(60, 64, 67, 0.3), 0px 1px 3px 1px rgba(60, 64, 67, 0.15);\n",
              "      fill: #174EA6;\n",
              "    }\n",
              "\n",
              "    .colab-df-buttons div {\n",
              "      margin-bottom: 4px;\n",
              "    }\n",
              "\n",
              "    [theme=dark] .colab-df-convert {\n",
              "      background-color: #3B4455;\n",
              "      fill: #D2E3FC;\n",
              "    }\n",
              "\n",
              "    [theme=dark] .colab-df-convert:hover {\n",
              "      background-color: #434B5C;\n",
              "      box-shadow: 0px 1px 3px 1px rgba(0, 0, 0, 0.15);\n",
              "      filter: drop-shadow(0px 1px 2px rgba(0, 0, 0, 0.3));\n",
              "      fill: #FFFFFF;\n",
              "    }\n",
              "  </style>\n",
              "\n",
              "    <script>\n",
              "      const buttonEl =\n",
              "        document.querySelector('#df-ac381cb6-f17c-4ecb-978a-449e093fcc8a button.colab-df-convert');\n",
              "      buttonEl.style.display =\n",
              "        google.colab.kernel.accessAllowed ? 'block' : 'none';\n",
              "\n",
              "      async function convertToInteractive(key) {\n",
              "        const element = document.querySelector('#df-ac381cb6-f17c-4ecb-978a-449e093fcc8a');\n",
              "        const dataTable =\n",
              "          await google.colab.kernel.invokeFunction('convertToInteractive',\n",
              "                                                    [key], {});\n",
              "        if (!dataTable) return;\n",
              "\n",
              "        const docLinkHtml = 'Like what you see? Visit the ' +\n",
              "          '<a target=\"_blank\" href=https://colab.research.google.com/notebooks/data_table.ipynb>data table notebook</a>'\n",
              "          + ' to learn more about interactive tables.';\n",
              "        element.innerHTML = '';\n",
              "        dataTable['output_type'] = 'display_data';\n",
              "        await google.colab.output.renderOutput(dataTable, element);\n",
              "        const docLink = document.createElement('div');\n",
              "        docLink.innerHTML = docLinkHtml;\n",
              "        element.appendChild(docLink);\n",
              "      }\n",
              "    </script>\n",
              "  </div>\n",
              "\n",
              "\n",
              "<div id=\"df-76a07395-01e7-4f86-9a66-a79ed450583e\">\n",
              "  <button class=\"colab-df-quickchart\" onclick=\"quickchart('df-76a07395-01e7-4f86-9a66-a79ed450583e')\"\n",
              "            title=\"Suggest charts\"\n",
              "            style=\"display:none;\">\n",
              "\n",
              "<svg xmlns=\"http://www.w3.org/2000/svg\" height=\"24px\"viewBox=\"0 0 24 24\"\n",
              "     width=\"24px\">\n",
              "    <g>\n",
              "        <path d=\"M19 3H5c-1.1 0-2 .9-2 2v14c0 1.1.9 2 2 2h14c1.1 0 2-.9 2-2V5c0-1.1-.9-2-2-2zM9 17H7v-7h2v7zm4 0h-2V7h2v10zm4 0h-2v-4h2v4z\"/>\n",
              "    </g>\n",
              "</svg>\n",
              "  </button>\n",
              "\n",
              "<style>\n",
              "  .colab-df-quickchart {\n",
              "      --bg-color: #E8F0FE;\n",
              "      --fill-color: #1967D2;\n",
              "      --hover-bg-color: #E2EBFA;\n",
              "      --hover-fill-color: #174EA6;\n",
              "      --disabled-fill-color: #AAA;\n",
              "      --disabled-bg-color: #DDD;\n",
              "  }\n",
              "\n",
              "  [theme=dark] .colab-df-quickchart {\n",
              "      --bg-color: #3B4455;\n",
              "      --fill-color: #D2E3FC;\n",
              "      --hover-bg-color: #434B5C;\n",
              "      --hover-fill-color: #FFFFFF;\n",
              "      --disabled-bg-color: #3B4455;\n",
              "      --disabled-fill-color: #666;\n",
              "  }\n",
              "\n",
              "  .colab-df-quickchart {\n",
              "    background-color: var(--bg-color);\n",
              "    border: none;\n",
              "    border-radius: 50%;\n",
              "    cursor: pointer;\n",
              "    display: none;\n",
              "    fill: var(--fill-color);\n",
              "    height: 32px;\n",
              "    padding: 0;\n",
              "    width: 32px;\n",
              "  }\n",
              "\n",
              "  .colab-df-quickchart:hover {\n",
              "    background-color: var(--hover-bg-color);\n",
              "    box-shadow: 0 1px 2px rgba(60, 64, 67, 0.3), 0 1px 3px 1px rgba(60, 64, 67, 0.15);\n",
              "    fill: var(--button-hover-fill-color);\n",
              "  }\n",
              "\n",
              "  .colab-df-quickchart-complete:disabled,\n",
              "  .colab-df-quickchart-complete:disabled:hover {\n",
              "    background-color: var(--disabled-bg-color);\n",
              "    fill: var(--disabled-fill-color);\n",
              "    box-shadow: none;\n",
              "  }\n",
              "\n",
              "  .colab-df-spinner {\n",
              "    border: 2px solid var(--fill-color);\n",
              "    border-color: transparent;\n",
              "    border-bottom-color: var(--fill-color);\n",
              "    animation:\n",
              "      spin 1s steps(1) infinite;\n",
              "  }\n",
              "\n",
              "  @keyframes spin {\n",
              "    0% {\n",
              "      border-color: transparent;\n",
              "      border-bottom-color: var(--fill-color);\n",
              "      border-left-color: var(--fill-color);\n",
              "    }\n",
              "    20% {\n",
              "      border-color: transparent;\n",
              "      border-left-color: var(--fill-color);\n",
              "      border-top-color: var(--fill-color);\n",
              "    }\n",
              "    30% {\n",
              "      border-color: transparent;\n",
              "      border-left-color: var(--fill-color);\n",
              "      border-top-color: var(--fill-color);\n",
              "      border-right-color: var(--fill-color);\n",
              "    }\n",
              "    40% {\n",
              "      border-color: transparent;\n",
              "      border-right-color: var(--fill-color);\n",
              "      border-top-color: var(--fill-color);\n",
              "    }\n",
              "    60% {\n",
              "      border-color: transparent;\n",
              "      border-right-color: var(--fill-color);\n",
              "    }\n",
              "    80% {\n",
              "      border-color: transparent;\n",
              "      border-right-color: var(--fill-color);\n",
              "      border-bottom-color: var(--fill-color);\n",
              "    }\n",
              "    90% {\n",
              "      border-color: transparent;\n",
              "      border-bottom-color: var(--fill-color);\n",
              "    }\n",
              "  }\n",
              "</style>\n",
              "\n",
              "  <script>\n",
              "    async function quickchart(key) {\n",
              "      const quickchartButtonEl =\n",
              "        document.querySelector('#' + key + ' button');\n",
              "      quickchartButtonEl.disabled = true;  // To prevent multiple clicks.\n",
              "      quickchartButtonEl.classList.add('colab-df-spinner');\n",
              "      try {\n",
              "        const charts = await google.colab.kernel.invokeFunction(\n",
              "            'suggestCharts', [key], {});\n",
              "      } catch (error) {\n",
              "        console.error('Error during call to suggestCharts:', error);\n",
              "      }\n",
              "      quickchartButtonEl.classList.remove('colab-df-spinner');\n",
              "      quickchartButtonEl.classList.add('colab-df-quickchart-complete');\n",
              "    }\n",
              "    (() => {\n",
              "      let quickchartButtonEl =\n",
              "        document.querySelector('#df-76a07395-01e7-4f86-9a66-a79ed450583e button');\n",
              "      quickchartButtonEl.style.display =\n",
              "        google.colab.kernel.accessAllowed ? 'block' : 'none';\n",
              "    })();\n",
              "  </script>\n",
              "</div>\n",
              "\n",
              "    </div>\n",
              "  </div>\n"
            ],
            "application/vnd.google.colaboratory.intrinsic+json": {
              "type": "dataframe",
              "variable_name": "x",
              "summary": "{\n  \"name\": \"x\",\n  \"rows\": 4000,\n  \"fields\": [\n    {\n      \"column\": \"fixed acidity\",\n      \"properties\": {\n        \"dtype\": \"number\",\n        \"std\": 3.451236003634857,\n        \"min\": 3.002656863,\n        \"max\": 14.99967991,\n        \"num_unique_values\": 4000,\n        \"samples\": [\n          3.166763532,\n          6.104527712,\n          14.15934803\n        ],\n        \"semantic_type\": \"\",\n        \"description\": \"\"\n      }\n    },\n    {\n      \"column\": \"volatile acidity\",\n      \"properties\": {\n        \"dtype\": \"number\",\n        \"std\": 0.10018391037349476,\n        \"min\": 0.08,\n        \"max\": 1.005,\n        \"num_unique_values\": 117,\n        \"samples\": [\n          0.43,\n          0.3,\n          0.75\n        ],\n        \"semantic_type\": \"\",\n        \"description\": \"\"\n      }\n    },\n    {\n      \"column\": \"critric acid\",\n      \"properties\": {\n        \"dtype\": \"number\",\n        \"std\": 0.5198247727937683,\n        \"min\": 0.001274377,\n        \"max\": 1.799570362,\n        \"num_unique_values\": 4000,\n        \"samples\": [\n          0.878725683,\n          1.313676333,\n          1.086809708\n        ],\n        \"semantic_type\": \"\",\n        \"description\": \"\"\n      }\n    },\n    {\n      \"column\": \"residual sugar\",\n      \"properties\": {\n        \"dtype\": \"number\",\n        \"std\": 5.091631275765739,\n        \"min\": 0.6,\n        \"max\": 65.8,\n        \"num_unique_values\": 298,\n        \"samples\": [\n          10.55,\n          4.35,\n          15.9\n        ],\n        \"semantic_type\": \"\",\n        \"description\": \"\"\n      }\n    },\n    {\n      \"column\": \"chlorides\",\n      \"properties\": {\n        \"dtype\": \"number\",\n        \"std\": 0.09899969918458819,\n        \"min\": 0.000183908,\n        \"max\": 0.345939748,\n        \"num_unique_values\": 4000,\n        \"samples\": [\n          0.013873797,\n          0.20483483,\n          0.292763798\n        ],\n        \"semantic_type\": \"\",\n        \"description\": \"\"\n      }\n    },\n    {\n      \"column\": \"free sulfur dioxide\",\n      \"properties\": {\n        \"dtype\": \"number\",\n        \"std\": 82.5833519381371,\n        \"min\": 2.049863701,\n        \"max\": 288.9917338,\n        \"num_unique_values\": 4000,\n        \"samples\": [\n          224.3469779,\n          178.7737841,\n          186.6184787\n        ],\n        \"semantic_type\": \"\",\n        \"description\": \"\"\n      }\n    },\n    {\n      \"column\": \"total sulfur dioxide\",\n      \"properties\": {\n        \"dtype\": \"number\",\n        \"std\": 125.91797888393236,\n        \"min\": 9.280988086,\n        \"max\": 449.7976575,\n        \"num_unique_values\": 4000,\n        \"samples\": [\n          161.8599169,\n          303.9557524,\n          167.0050643\n        ],\n        \"semantic_type\": \"\",\n        \"description\": \"\"\n      }\n    },\n    {\n      \"column\": \"density\",\n      \"properties\": {\n        \"dtype\": \"number\",\n        \"std\": 0.002992577761527365,\n        \"min\": 0.98713,\n        \"max\": 1.03898,\n        \"num_unique_values\": 773,\n        \"samples\": [\n          0.99412,\n          0.99444,\n          1.00016\n        ],\n        \"semantic_type\": \"\",\n        \"description\": \"\"\n      }\n    },\n    {\n      \"column\": \"pH\",\n      \"properties\": {\n        \"dtype\": \"number\",\n        \"std\": 0.3308190865479679,\n        \"min\": 2.710566413,\n        \"max\": 3.849759261,\n        \"num_unique_values\": 4000,\n        \"samples\": [\n          3.782414553,\n          2.920216807,\n          2.899049336\n        ],\n        \"semantic_type\": \"\",\n        \"description\": \"\"\n      }\n    },\n    {\n      \"column\": \"sulphates\",\n      \"properties\": {\n        \"dtype\": \"number\",\n        \"std\": 0.24711004451391008,\n        \"min\": 0.220085728,\n        \"max\": 1.079714063,\n        \"num_unique_values\": 4000,\n        \"samples\": [\n          0.228512472,\n          0.527937375,\n          0.948952648\n        ],\n        \"semantic_type\": \"\",\n        \"description\": \"\"\n      }\n    },\n    {\n      \"column\": \"alcohol\",\n      \"properties\": {\n        \"dtype\": \"number\",\n        \"std\": 1.753456867188882,\n        \"min\": 8.003454722,\n        \"max\": 14.19785157,\n        \"num_unique_values\": 4000,\n        \"samples\": [\n          9.703989839,\n          11.42645487,\n          10.94524375\n        ],\n        \"semantic_type\": \"\",\n        \"description\": \"\"\n      }\n    }\n  ]\n}"
            }
          },
          "metadata": {},
          "execution_count": 7
        }
      ]
    },
    {
      "cell_type": "code",
      "source": [
        "y.head()"
      ],
      "metadata": {
        "colab": {
          "base_uri": "https://localhost:8080/"
        },
        "id": "qOL550j8On4p",
        "outputId": "38fd518c-0c24-49d8-b6f4-a8c36bcf3b44"
      },
      "execution_count": null,
      "outputs": [
        {
          "output_type": "execute_result",
          "data": {
            "text/plain": [
              "0    7\n",
              "1    5\n",
              "2    6\n",
              "3    6\n",
              "4    5\n",
              "Name: quality, dtype: int64"
            ]
          },
          "metadata": {},
          "execution_count": 8
        }
      ]
    },
    {
      "cell_type": "markdown",
      "source": [
        "#Splitting into Train and Test data"
      ],
      "metadata": {
        "id": "hdZXFFEAS5li"
      }
    },
    {
      "cell_type": "code",
      "source": [
        "x_train, x_test, y_train, y_test = train_test_split(x,y,test_size=0.2)"
      ],
      "metadata": {
        "id": "dGXW-JfuOrPp"
      },
      "execution_count": null,
      "outputs": []
    },
    {
      "cell_type": "code",
      "source": [
        "print(\"shape of original dataset :\", data.shape)\n",
        "print(\"shape of input - training set\", x_train.shape)\n",
        "print(\"shape of output - training set\", y_train.shape)\n",
        "print(\"shape of input - testing set\", x_test.shape)\n",
        "print(\"shape of output - testing set\", y_test.shape)"
      ],
      "metadata": {
        "colab": {
          "base_uri": "https://localhost:8080/"
        },
        "id": "BURkyCmMOuoR",
        "outputId": "825c9a45-5f83-4091-ed3d-07929f5cb6c2"
      },
      "execution_count": null,
      "outputs": [
        {
          "output_type": "stream",
          "name": "stdout",
          "text": [
            "shape of original dataset : (4000, 12)\n",
            "shape of input - training set (3200, 11)\n",
            "shape of output - training set (3200,)\n",
            "shape of input - testing set (800, 11)\n",
            "shape of output - testing set (800,)\n"
          ]
        }
      ]
    },
    {
      "cell_type": "markdown",
      "source": [
        "#Scaling the data by dividing with Maximum number"
      ],
      "metadata": {
        "id": "ItXWmESmTHCX"
      }
    },
    {
      "cell_type": "code",
      "source": [
        "# Dividing the Original Data by the max value of each column\n",
        "transformer = MaxAbsScaler()\n",
        "X_train = transformer.fit_transform(x_train)\n",
        "X_test = transformer.fit_transform(x_test)\n",
        "\n",
        "Y_train = transformer.fit_transform(y_train.values.reshape(-1,1))\n",
        "Y_test = transformer.fit_transform(y_test.values.reshape(-1,1))"
      ],
      "metadata": {
        "id": "PwBXztnIOyh6"
      },
      "execution_count": null,
      "outputs": []
    },
    {
      "cell_type": "code",
      "source": [
        "X_train"
      ],
      "metadata": {
        "colab": {
          "base_uri": "https://localhost:8080/"
        },
        "id": "shptcAyhO2L5",
        "outputId": "a4d5e8d1-b6cd-464f-de8b-efbdf3bef07a"
      },
      "execution_count": null,
      "outputs": [
        {
          "output_type": "execute_result",
          "data": {
            "text/plain": [
              "array([[0.27886707, 0.4079602 , 0.32484796, ..., 0.77852295, 0.6631641 ,\n",
              "        0.63089806],\n",
              "       [0.22425984, 0.33830846, 0.86494398, ..., 0.72369204, 0.24283881,\n",
              "        0.65236378],\n",
              "       [0.70695692, 0.27860697, 0.65363825, ..., 0.77193493, 0.86734491,\n",
              "        0.75252869],\n",
              "       ...,\n",
              "       [0.25520292, 0.16915423, 0.68718568, ..., 0.74212254, 0.91572915,\n",
              "        0.73790822],\n",
              "       [0.5631897 , 0.31840796, 0.12459505, ..., 0.71591369, 0.68103448,\n",
              "        0.70008912],\n",
              "       [0.6349616 , 0.32835821, 0.92855817, ..., 0.72582178, 0.60493257,\n",
              "        0.6172214 ]])"
            ]
          },
          "metadata": {},
          "execution_count": 12
        }
      ]
    },
    {
      "cell_type": "markdown",
      "source": [
        "#Defining the model architecture"
      ],
      "metadata": {
        "id": "POlpOU_qTO8-"
      }
    },
    {
      "cell_type": "code",
      "source": [
        "#Defining the Activation Function\n",
        "def sigmoid(x):\n",
        "    return 1 / (1 + np.exp(-x))\n",
        "\n",
        "def sigmoid_derivative(y):\n",
        "    return sigmoid(y)*(1-sigmoid(y))"
      ],
      "metadata": {
        "id": "c0wP8WmPO6MS"
      },
      "execution_count": null,
      "outputs": []
    },
    {
      "cell_type": "code",
      "source": [
        "# Defining the Neural Network Function and its attributes\n",
        "def NN(X_train, Y_train, hiddenLayer_neurons, lr, epochs):\n",
        "    inputLayer_neurons = X_train.shape[1]  # number of features in data set\n",
        "    hiddenLayer_neurons = 10  # number of hidden layers neurons\n",
        "    outputLayer_neurons = 1  # number of neurons at output layer\n",
        "    np.random.seed(0) # to get the same values when they are implemented each time\n",
        "\n",
        "    # initializing weight\n",
        "    W1 = np.random.randn(inputLayer_neurons, hiddenLayer_neurons)\n",
        "    W2 = np.random.randn(hiddenLayer_neurons, outputLayer_neurons)\n",
        "\n",
        "    # defining the parameters\n",
        "#     lr = 0.0001\n",
        "#     epochs = 10000\n",
        "\n",
        "\n",
        "    losses = []\n",
        "    for epoch in range(epochs):\n",
        "        ## Forward Propogation\n",
        "\n",
        "        # calculating hidden layer activations\n",
        "        hiddenLayer_linearTransform = np.dot(X_train, W1)\n",
        "        hiddenLayer_activations = sigmoid(hiddenLayer_linearTransform)\n",
        "\n",
        "        # calculating the output\n",
        "        outputLayer_linearTransform = np.dot(hiddenLayer_activations, W2)\n",
        "        output = sigmoid(outputLayer_linearTransform)\n",
        "\n",
        "        ## Backward Propagation\n",
        "\n",
        "        # calculating error\n",
        "        loss = np.square(Y_train - output) / 2\n",
        "    #     ================================== Phase 1 errors ==================================\n",
        "\n",
        "        # calculating rate of change of error w.r.t weight between hidden and output layer\n",
        "        derror_douto = -(Y_train - output)\n",
        "\n",
        "        douto_dino = sigmoid_derivative(output)\n",
        "        dino_dwo = hiddenLayer_activations\n",
        "        derror_dwo = np.dot(dino_dwo.T, derror_douto * douto_dino)\n",
        "\n",
        "    #     ================================== Phase 2 errors ==================================\n",
        "\n",
        "        # calculating rate of change of error w.r.t weights between input and hidden layer\n",
        "        derror_dino = derror_douto * douto_dino\n",
        "        dino_douth = W2\n",
        "        derror_douth = np.dot(derror_dino, dino_douth.T)\n",
        "        douth_dinh = sigmoid_derivative(hiddenLayer_linearTransform)\n",
        "        dinh_dwh = X_train\n",
        "        derror_wh = np.dot(dinh_dwh.T, douth_dinh * derror_douth)\n",
        "\n",
        "        # updating the weights\n",
        "        W2 = W2 - lr * derror_dwo\n",
        "        W1 = W1 - lr * derror_wh\n",
        "\n",
        "        # print error at every 1000th epoch\n",
        "        epoch_loss = np.average(loss)\n",
        "        if epoch % 1000 == 0:\n",
        "            print(f\"Error at epoch {epoch} is {epoch_loss:.5f}\")\n",
        "\n",
        "        # appending the error of each epoch\n",
        "        losses.append(epoch_loss)\n",
        "\n",
        "    return W1, W2, losses"
      ],
      "metadata": {
        "id": "6EFLkThpO9wh"
      },
      "execution_count": null,
      "outputs": []
    },
    {
      "cell_type": "markdown",
      "source": [
        "#When Neurons are 10 and lr = 0.0001"
      ],
      "metadata": {
        "id": "7OaDMh6xTWan"
      }
    },
    {
      "cell_type": "code",
      "source": [
        "W1, W2, losses = NN(X_train, Y_train, hiddenLayer_neurons = 10, lr = 0.0001, epochs = 10000)"
      ],
      "metadata": {
        "colab": {
          "base_uri": "https://localhost:8080/"
        },
        "id": "LOW3V_aDPHCp",
        "outputId": "ca0afaca-a7f1-439e-d211-c4417c80697d"
      },
      "execution_count": null,
      "outputs": [
        {
          "output_type": "stream",
          "name": "stdout",
          "text": [
            "Error at epoch 0 is 0.02631\n",
            "Error at epoch 1000 is 0.00495\n",
            "Error at epoch 2000 is 0.00407\n",
            "Error at epoch 3000 is 0.00357\n",
            "Error at epoch 4000 is 0.00323\n",
            "Error at epoch 5000 is 0.00297\n",
            "Error at epoch 6000 is 0.00277\n",
            "Error at epoch 7000 is 0.00260\n",
            "Error at epoch 8000 is 0.00246\n",
            "Error at epoch 9000 is 0.00234\n"
          ]
        }
      ]
    },
    {
      "cell_type": "code",
      "source": [
        "def run(inputs, W1, W2):\n",
        "    # Run a forward pass through the network\n",
        "    #### Implement the forward pass here ####\n",
        "    #  Hidden layer\n",
        "    hidden_inputs = np.dot(inputs, W1)# signals into hidden layer\n",
        "    hidden_outputs = sigmoid(hidden_inputs) # signals from hidden layer\n",
        "\n",
        "    # TODO: Output layer\n",
        "    final_inputs = np.dot(hidden_outputs, W2) # signals into final output layer\n",
        "    final_outputs = final_inputs # signals from final output layer\n",
        "\n",
        "    return final_outputs"
      ],
      "metadata": {
        "id": "9bRjF_73PTwE"
      },
      "execution_count": null,
      "outputs": []
    },
    {
      "cell_type": "code",
      "source": [
        "predictions = run(X_test, W1, W2)"
      ],
      "metadata": {
        "id": "joiDlpEoPXJ0"
      },
      "execution_count": null,
      "outputs": []
    },
    {
      "cell_type": "code",
      "source": [
        "epochs = 10000"
      ],
      "metadata": {
        "id": "3ZOTxlRNPaqX"
      },
      "execution_count": null,
      "outputs": []
    },
    {
      "cell_type": "code",
      "source": [
        "plt.plot(np.arange(1, epochs + 1), np.array(losses),label='Loss per iteration')\n",
        "plt.title('LOSS', size=18)\n",
        "plt.legend(loc='upper right', fontsize=18)\n",
        "plt.xlabel('No.of Iterations', size=16)\n",
        "plt.ylabel('Loss', size=16)\n",
        "plt.tick_params(labelsize=13)\n",
        "plt.savefig('LOSS',\n",
        "            bbox_inches='tight', dpi=300, pad_inches=0.0)"
      ],
      "metadata": {
        "colab": {
          "base_uri": "https://localhost:8080/",
          "height": 487
        },
        "id": "FN_-7bDoPdrI",
        "outputId": "12280097-5c6d-41a4-9391-21dd41a30fe6"
      },
      "execution_count": null,
      "outputs": [
        {
          "output_type": "display_data",
          "data": {
            "text/plain": [
              "<Figure size 640x480 with 1 Axes>"
            ],
            "image/png": "[encoded data removed]"
          },
          "metadata": {}
        }
      ]
    },
    {
      "cell_type": "code",
      "source": [
        "def run(inputs, W1, W2):\n",
        "    \"\"\"\n",
        "    This is a function for predictions of test data\n",
        "    \"\"\"\n",
        "    # Run a forward pass through the network\n",
        "    #### Implement the forward pass here ####\n",
        "    #  Hidden layer\n",
        "    hidden_inputs = np.dot(inputs, W1)# signals into hidden layer\n",
        "    hidden_outputs = sigmoid(hidden_inputs) # signals from hidden layer\n",
        "\n",
        "    # TODO: Output layer\n",
        "    final_inputs = np.dot(hidden_outputs, W2) # signals into final output layer\n",
        "    final_outputs = final_inputs # signals from final output layer\n",
        "\n",
        "    return final_outputs"
      ],
      "metadata": {
        "id": "tY5Ivy6XPiYP"
      },
      "execution_count": null,
      "outputs": []
    },
    {
      "cell_type": "code",
      "source": [
        "predictions = run(X_test, W1, W2)"
      ],
      "metadata": {
        "id": "hU7Xkzx1PmW_"
      },
      "execution_count": null,
      "outputs": []
    },
    {
      "cell_type": "code",
      "source": [
        "df = pd.DataFrame(W1)"
      ],
      "metadata": {
        "id": "OTCpfP2OPqCC"
      },
      "execution_count": null,
      "outputs": []
    },
    {
      "cell_type": "code",
      "source": [
        "file = \"W1.xlsx\""
      ],
      "metadata": {
        "id": "wXvhenOCPsy5"
      },
      "execution_count": null,
      "outputs": []
    },
    {
      "cell_type": "code",
      "source": [
        "df.to_excel(file, index = False)"
      ],
      "metadata": {
        "id": "ioiMrVh5PyDR"
      },
      "execution_count": null,
      "outputs": []
    },
    {
      "cell_type": "code",
      "source": [
        "W2"
      ],
      "metadata": {
        "colab": {
          "base_uri": "https://localhost:8080/"
        },
        "id": "Y5pkA0NsP4PC",
        "outputId": "60ddc275-d8a5-4eda-f032-62a639577d7c"
      },
      "execution_count": null,
      "outputs": [
        {
          "output_type": "execute_result",
          "data": {
            "text/plain": [
              "array([[ 0.65846921],\n",
              "       [ 1.27602348],\n",
              "       [-2.27952276],\n",
              "       [ 1.08536156],\n",
              "       [-0.6579148 ],\n",
              "       [ 0.43270225],\n",
              "       [ 1.07072159],\n",
              "       [-0.31399513],\n",
              "       [ 0.17664296],\n",
              "       [ 0.96011997]])"
            ]
          },
          "metadata": {},
          "execution_count": 25
        }
      ]
    },
    {
      "cell_type": "code",
      "source": [
        "df_1 = pd.DataFrame(W2)"
      ],
      "metadata": {
        "id": "zTYrW4k7P94J"
      },
      "execution_count": null,
      "outputs": []
    },
    {
      "cell_type": "code",
      "source": [
        "file_1 = \"W2.xlsx\""
      ],
      "metadata": {
        "id": "CRG8ayjGQCKp"
      },
      "execution_count": null,
      "outputs": []
    },
    {
      "cell_type": "code",
      "source": [
        "df_1.to_excel(file_1, index = False)"
      ],
      "metadata": {
        "id": "nCW_o4n1QETJ"
      },
      "execution_count": null,
      "outputs": []
    },
    {
      "cell_type": "code",
      "source": [
        "plt.figure(figsize=(15,6))\n",
        "colours = (0,0,0)\n",
        "plt.scatter(predictions, Y_test, s= None,c=colours, alpha=0.5)\n",
        "plt.xlabel('Predicted Target Variables')\n",
        "plt.ylabel('Observed Target Values')\n",
        "plt.savefig('Predicted Target vs Observed Target',\n",
        "            bbox_inches='tight', dpi=300, pad_inches=0.0)\n",
        "plt.show()"
      ],
      "metadata": {
        "colab": {
          "base_uri": "https://localhost:8080/",
          "height": 504
        },
        "id": "TI00hxq6QI0g",
        "outputId": "8f3281e3-5f19-4033-92f2-3c2c530435ce"
      },
      "execution_count": null,
      "outputs": [
        {
          "output_type": "stream",
          "name": "stderr",
          "text": [
            "<ipython-input-29-1d21e2a3846d>:3: UserWarning: *c* argument looks like a single numeric RGB or RGBA sequence, which should be avoided as value-mapping will have precedence in case its length matches with *x* & *y*.  Please use the *color* keyword-argument or provide a 2D array with a single row if you intend to specify the same RGB or RGBA value for all points.\n",
            "  plt.scatter(predictions, Y_test, s= None,c=colours, alpha=0.5)\n"
          ]
        },
        {
          "output_type": "display_data",
          "data": {
            "text/plain": [
              "<Figure size 1500x600 with 1 Axes>"
            ],
            "image/png": "[encoded data removed]"
          },
          "metadata": {}
        }
      ]
    },
    {
      "cell_type": "markdown",
      "source": [
        "#When Neurons are 9 and lr = 0.0001"
      ],
      "metadata": {
        "id": "SRWry9iwTecm"
      }
    },
    {
      "cell_type": "code",
      "source": [
        "W1_9, W2_9, losses_9 = NN(X_train, Y_train, hiddenLayer_neurons = 9, lr = 0.0001, epochs = 10000)"
      ],
      "metadata": {
        "colab": {
          "base_uri": "https://localhost:8080/"
        },
        "id": "5PnWLV8VQbHq",
        "outputId": "17b909ea-debd-4ffc-f0f8-4b7d58d26645"
      },
      "execution_count": null,
      "outputs": [
        {
          "output_type": "stream",
          "name": "stdout",
          "text": [
            "Error at epoch 0 is 0.02631\n",
            "Error at epoch 1000 is 0.00495\n",
            "Error at epoch 2000 is 0.00407\n",
            "Error at epoch 3000 is 0.00357\n",
            "Error at epoch 4000 is 0.00323\n",
            "Error at epoch 5000 is 0.00297\n",
            "Error at epoch 6000 is 0.00277\n",
            "Error at epoch 7000 is 0.00260\n",
            "Error at epoch 8000 is 0.00246\n",
            "Error at epoch 9000 is 0.00234\n"
          ]
        }
      ]
    },
    {
      "cell_type": "code",
      "source": [
        "W1_9_2, W2_9_2, losses_9_2 = NN(X_train, Y_train, hiddenLayer_neurons = 9, lr = 0.1, epochs = 10000)"
      ],
      "metadata": {
        "colab": {
          "base_uri": "https://localhost:8080/"
        },
        "id": "uAzxLiJ2RAmg",
        "outputId": "d74f17fb-6c4e-435e-f1da-3f1279d8e5b1"
      },
      "execution_count": null,
      "outputs": [
        {
          "output_type": "stream",
          "name": "stdout",
          "text": [
            "Error at epoch 0 is 0.02631\n"
          ]
        },
        {
          "output_type": "stream",
          "name": "stderr",
          "text": [
            "<ipython-input-13-b4655dc3f3ba>:3: RuntimeWarning: overflow encountered in exp\n",
            "  return 1 / (1 + np.exp(-x))\n"
          ]
        },
        {
          "output_type": "stream",
          "name": "stdout",
          "text": [
            "Error at epoch 1000 is 0.03674\n",
            "Error at epoch 2000 is 0.03673\n",
            "Error at epoch 3000 is 0.03673\n",
            "Error at epoch 4000 is 0.03673\n",
            "Error at epoch 5000 is 0.03673\n",
            "Error at epoch 6000 is 0.03673\n",
            "Error at epoch 7000 is 0.03673\n",
            "Error at epoch 8000 is 0.03673\n",
            "Error at epoch 9000 is 0.03673\n"
          ]
        }
      ]
    },
    {
      "cell_type": "markdown",
      "source": [
        "#When Neurons are 9 and lr = 0.001"
      ],
      "metadata": {
        "id": "XbmBFfr_T2UF"
      }
    },
    {
      "cell_type": "code",
      "source": [
        "W1_8, W2_8, losses_8 = NN(X_train, Y_train, hiddenLayer_neurons = 8, lr = 0.0001, epochs = 10000)"
      ],
      "metadata": {
        "colab": {
          "base_uri": "https://localhost:8080/"
        },
        "id": "scWi6hWhRjyQ",
        "outputId": "7717d7e5-fd71-4a33-d77c-d445436a4f69"
      },
      "execution_count": null,
      "outputs": [
        {
          "output_type": "stream",
          "name": "stdout",
          "text": [
            "Error at epoch 0 is 0.02631\n",
            "Error at epoch 1000 is 0.00495\n",
            "Error at epoch 2000 is 0.00407\n",
            "Error at epoch 3000 is 0.00357\n",
            "Error at epoch 4000 is 0.00323\n",
            "Error at epoch 5000 is 0.00297\n",
            "Error at epoch 6000 is 0.00277\n",
            "Error at epoch 7000 is 0.00260\n",
            "Error at epoch 8000 is 0.00246\n",
            "Error at epoch 9000 is 0.00234\n"
          ]
        }
      ]
    },
    {
      "cell_type": "code",
      "source": [
        "epochs = 10000"
      ],
      "metadata": {
        "id": "MUGuCXJWRG_A"
      },
      "execution_count": null,
      "outputs": []
    },
    {
      "cell_type": "code",
      "source": [
        "plt.plot(np.arange(1, epochs + 1), np.array(losses_8))"
      ],
      "metadata": {
        "colab": {
          "base_uri": "https://localhost:8080/",
          "height": 447
        },
        "id": "Ni3idXI3RX-I",
        "outputId": "418b21f4-f21a-4ee8-88b9-783b4f17a16b"
      },
      "execution_count": null,
      "outputs": [
        {
          "output_type": "execute_result",
          "data": {
            "text/plain": [
              "[<matplotlib.lines.Line2D at 0x7f99fc4e3790>]"
            ]
          },
          "metadata": {},
          "execution_count": 38
        },
        {
          "output_type": "display_data",
          "data": {
            "text/plain": [
              "<Figure size 640x480 with 1 Axes>"
            ],
            "image/png": "[encoded data removed]"
          },
          "metadata": {}
        }
      ]
    },
    {
      "cell_type": "code",
      "source": [
        "epochs = 10000"
      ],
      "metadata": {
        "id": "J1QJO0dvRvv5"
      },
      "execution_count": null,
      "outputs": []
    },
    {
      "cell_type": "code",
      "source": [
        "plt.plot(np.arange(1, epochs + 1), np.array(losses_8))"
      ],
      "metadata": {
        "colab": {
          "base_uri": "https://localhost:8080/",
          "height": 447
        },
        "id": "l8xSl8qMRyry",
        "outputId": "139ffcef-f38f-44e1-a9a3-c509a745c764"
      },
      "execution_count": null,
      "outputs": [
        {
          "output_type": "execute_result",
          "data": {
            "text/plain": [
              "[<matplotlib.lines.Line2D at 0x7f99fc472740>]"
            ]
          },
          "metadata": {},
          "execution_count": 40
        },
        {
          "output_type": "display_data",
          "data": {
            "text/plain": [
              "<Figure size 640x480 with 1 Axes>"
            ],
            "image/png": "[encoded data removed]"
          },
          "metadata": {}
        }
      ]
    },
    {
      "cell_type": "code",
      "source": [
        "predictions_8 = run(X_test, W1_8, W2_8)"
      ],
      "metadata": {
        "id": "UUK28nPyR1e5"
      },
      "execution_count": null,
      "outputs": []
    },
    {
      "cell_type": "code",
      "source": [
        "plt.figure(figsize=(15,6))\n",
        "colours = (0,0,0)\n",
        "plt.scatter(predictions_8, Y_test, s= None,c=colours, alpha=0.5)\n",
        "plt.xlabel('Predicted Target Variables')\n",
        "plt.ylabel('Observed Target Values')\n",
        "plt.savefig('Predicted Target vs Observed Target',\n",
        "            bbox_inches='tight', dpi=300, pad_inches=0.0)\n",
        "plt.show()"
      ],
      "metadata": {
        "colab": {
          "base_uri": "https://localhost:8080/",
          "height": 504
        },
        "id": "55vqaBXoR4wK",
        "outputId": "60216b45-fd38-4ea8-a4b8-257240eea78e"
      },
      "execution_count": null,
      "outputs": [
        {
          "output_type": "stream",
          "name": "stderr",
          "text": [
            "<ipython-input-42-363ea9a17227>:3: UserWarning: *c* argument looks like a single numeric RGB or RGBA sequence, which should be avoided as value-mapping will have precedence in case its length matches with *x* & *y*.  Please use the *color* keyword-argument or provide a 2D array with a single row if you intend to specify the same RGB or RGBA value for all points.\n",
            "  plt.scatter(predictions_8, Y_test, s= None,c=colours, alpha=0.5)\n"
          ]
        },
        {
          "output_type": "display_data",
          "data": {
            "text/plain": [
              "<Figure size 1500x600 with 1 Axes>"
            ],
            "image/png": "[encoded data removed]"
          },
          "metadata": {}
        }
      ]
    },
    {
      "cell_type": "markdown",
      "source": [
        "#When Neurons are 9 and lr = 0.01"
      ],
      "metadata": {
        "id": "rxbxVnRaT-OO"
      }
    },
    {
      "cell_type": "code",
      "source": [
        "W1_8_lr, W2_8_lr, losses_8_lr = NN(X_train, Y_train, hiddenLayer_neurons = 8, lr = 0.001, epochs = 10000)\n",
        "plt.plot(np.arange(1, epochs + 1), np.array(losses_8_lr))"
      ],
      "metadata": {
        "colab": {
          "base_uri": "https://localhost:8080/",
          "height": 621
        },
        "id": "Hz2bkLs1R78p",
        "outputId": "ed1c9e70-34ca-4e23-c612-f77ec365b13e"
      },
      "execution_count": null,
      "outputs": [
        {
          "output_type": "stream",
          "name": "stdout",
          "text": [
            "Error at epoch 0 is 0.02631\n",
            "Error at epoch 1000 is 0.00224\n",
            "Error at epoch 2000 is 0.00168\n",
            "Error at epoch 3000 is 0.00154\n",
            "Error at epoch 4000 is 0.00150\n",
            "Error at epoch 5000 is 0.00149\n",
            "Error at epoch 6000 is 0.00149\n",
            "Error at epoch 7000 is 0.00148\n",
            "Error at epoch 8000 is 0.00148\n",
            "Error at epoch 9000 is 0.00148\n"
          ]
        },
        {
          "output_type": "execute_result",
          "data": {
            "text/plain": [
              "[<matplotlib.lines.Line2D at 0x7f99fc5f2290>]"
            ]
          },
          "metadata": {},
          "execution_count": 43
        },
        {
          "output_type": "display_data",
          "data": {
            "text/plain": [
              "<Figure size 640x480 with 1 Axes>"
            ],
            "image/png": "[encoded data removed]"
          },
          "metadata": {}
        }
      ]
    },
    {
      "cell_type": "code",
      "source": [
        "epochs = 10000"
      ],
      "metadata": {
        "id": "lSK25syPR_GW"
      },
      "execution_count": null,
      "outputs": []
    },
    {
      "cell_type": "code",
      "source": [
        "plt.plot(np.arange(1, epochs + 1), np.array(losses_8_lr))"
      ],
      "metadata": {
        "colab": {
          "base_uri": "https://localhost:8080/",
          "height": 447
        },
        "id": "i5L5YHOYSKHY",
        "outputId": "0115ca30-feda-48db-8ee3-67933326bf99"
      },
      "execution_count": null,
      "outputs": [
        {
          "output_type": "execute_result",
          "data": {
            "text/plain": [
              "[<matplotlib.lines.Line2D at 0x7f99fc612dd0>]"
            ]
          },
          "metadata": {},
          "execution_count": 45
        },
        {
          "output_type": "display_data",
          "data": {
            "text/plain": [
              "<Figure size 640x480 with 1 Axes>"
            ],
            "image/png": "[encoded data removed]"
          },
          "metadata": {}
        }
      ]
    },
    {
      "cell_type": "code",
      "source": [
        "predictions_8_lr = run(X_test, W1_8_lr, W2_8_lr)"
      ],
      "metadata": {
        "id": "h1MILj91SOzY"
      },
      "execution_count": null,
      "outputs": []
    },
    {
      "cell_type": "code",
      "source": [
        "plt.figure(figsize=(15,6))\n",
        "colours = (0,0,0)\n",
        "plt.scatter(predictions_8_lr, Y_test, s= None,c=colours, alpha=0.5)\n",
        "plt.xlabel('Predicted Target Variables')\n",
        "plt.ylabel('Observed Target Values')\n",
        "plt.savefig('Predicted Target vs Observed Target',\n",
        "            bbox_inches='tight', dpi=300, pad_inches=0.0)\n",
        "plt.show()"
      ],
      "metadata": {
        "colab": {
          "base_uri": "https://localhost:8080/",
          "height": 504
        },
        "id": "GzeJpnqUSTaA",
        "outputId": "9414397f-0374-4c79-e7ce-4271ea35a984"
      },
      "execution_count": null,
      "outputs": [
        {
          "output_type": "stream",
          "name": "stderr",
          "text": [
            "<ipython-input-47-bc0bc67a91bc>:3: UserWarning: *c* argument looks like a single numeric RGB or RGBA sequence, which should be avoided as value-mapping will have precedence in case its length matches with *x* & *y*.  Please use the *color* keyword-argument or provide a 2D array with a single row if you intend to specify the same RGB or RGBA value for all points.\n",
            "  plt.scatter(predictions_8_lr, Y_test, s= None,c=colours, alpha=0.5)\n"
          ]
        },
        {
          "output_type": "display_data",
          "data": {
            "text/plain": [
              "<Figure size 1500x600 with 1 Axes>"
            ],
            "image/png": "[encoded data removed]"
          },
          "metadata": {}
        }
      ]
    },
    {
      "cell_type": "code",
      "source": [
        "W1_8_1, W2_8_1, losses_8_1 = NN(X_train, Y_train, hiddenLayer_neurons = 8, lr = 0.01, epochs = 10000)"
      ],
      "metadata": {
        "colab": {
          "base_uri": "https://localhost:8080/"
        },
        "id": "YQSTprbOSWSN",
        "outputId": "09d8ae63-8e6e-420d-ed4b-fbc6a5a6ffbf"
      },
      "execution_count": null,
      "outputs": [
        {
          "output_type": "stream",
          "name": "stdout",
          "text": [
            "Error at epoch 0 is 0.02631\n",
            "Error at epoch 1000 is 0.00186\n",
            "Error at epoch 2000 is 0.00166\n",
            "Error at epoch 3000 is 0.00160\n",
            "Error at epoch 4000 is 0.00157\n",
            "Error at epoch 5000 is 0.00154\n",
            "Error at epoch 6000 is 0.00152\n",
            "Error at epoch 7000 is 0.00151\n",
            "Error at epoch 8000 is 0.00149\n",
            "Error at epoch 9000 is 0.00148\n"
          ]
        }
      ]
    },
    {
      "cell_type": "markdown",
      "source": [
        "#When Neurons are 9 and lr = 0.01"
      ],
      "metadata": {
        "id": "MufMf3vHUHLX"
      }
    },
    {
      "cell_type": "code",
      "source": [
        "W1_8_2, W2_8_2, losses_8_2 = NN(X_train, Y_train, hiddenLayer_neurons = 8, lr = 0.1, epochs = 10000)"
      ],
      "metadata": {
        "colab": {
          "base_uri": "https://localhost:8080/"
        },
        "id": "s14Xovy1Sc3K",
        "outputId": "c685e491-5809-4947-be25-278d0072332c"
      },
      "execution_count": null,
      "outputs": [
        {
          "output_type": "stream",
          "name": "stdout",
          "text": [
            "Error at epoch 0 is 0.02631\n"
          ]
        },
        {
          "output_type": "stream",
          "name": "stderr",
          "text": [
            "<ipython-input-13-b4655dc3f3ba>:3: RuntimeWarning: overflow encountered in exp\n",
            "  return 1 / (1 + np.exp(-x))\n"
          ]
        },
        {
          "output_type": "stream",
          "name": "stdout",
          "text": [
            "Error at epoch 1000 is 0.03674\n",
            "Error at epoch 2000 is 0.03673\n",
            "Error at epoch 3000 is 0.03673\n",
            "Error at epoch 4000 is 0.03673\n",
            "Error at epoch 5000 is 0.03673\n",
            "Error at epoch 6000 is 0.03673\n",
            "Error at epoch 7000 is 0.03673\n",
            "Error at epoch 8000 is 0.03673\n",
            "Error at epoch 9000 is 0.03673\n"
          ]
        }
      ]
    }
  ]
}